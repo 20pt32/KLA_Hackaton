import shapely.geometry as geometry


# Function to read input file and parse polygons
def parse_input_file(file_path):
    search_area = []
    template_polygons = []
    current_polygon = []
    with open(file_path, 'r') as file:
        for line in file:
            # Check if line represents a boundary
            if line.strip() == 'boundary':
                if current_polygon:
                    search_area.append(geometry.Polygon(current_polygon))
                    current_polygon = []
            # Check if line represents a template
            elif line.strip() == 'template':
                if current_polygon:
                    template_polygons.append(geometry.Polygon(current_polygon))
                    current_polygon = []
            # Check if line starts with 'xy'
            elif line.strip().startswith('xy'):
                # Extract coordinates from line and add to current polygon
                coordinates = line.strip().split()[2:]
                for i in range(0, len(coordinates), 2):
                    current_polygon.append((int(coordinates[i]), int(coordinates[i+1])))
    return search_area, template_polygons

# Function to perform template matching
def template_matching(search_area, template_polygons):
    results = []
    if template_polygons:
        for template in template_polygons:
            for polygon in search_area:
                if polygon.intersects(template):
                    results.append(polygon)
    else:
        # If no template polygons are found, return the first two polygons of the search area
        results = search_area[:2]
    return results


# Main function

def main():
    search_area, template_polygons = parse_input_file('Format_Source.txt')
    results = template_matching(search_area, template_polygons)
    
    if not results:
        print("No template polygons are found")
    else:
        with open('output.txt', 'w') as output_file:
            for result in results:
                output_file.write('boundary\n')
                output_file.write('layer 1\n')
                output_file.write('datatype 0\n')
                output_file.write('xy 5 ')
                for x, y in result.exterior.coords:
                    output_file.write(str(x) + ' ' + str(y) + ' ')
                #output_file.write(f'no of coordinates: {len(result.exterior.coords)}\n')
                output_file.write('\nendel\n')


if __name__ == '__main__':
    main()


