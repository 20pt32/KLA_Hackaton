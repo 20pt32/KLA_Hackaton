{
  "nbformat": 4,
  "nbformat_minor": 0,
  "metadata": {
    "colab": {
      "provenance": [],
      "authorship_tag": "ABX9TyOfGbuA6hIsG1pZwbw1fndN",
      "include_colab_link": true
    },
    "kernelspec": {
      "name": "python3",
      "display_name": "Python 3"
    },
    "language_info": {
      "name": "python"
    }
  },
  "cells": [
    {
      "cell_type": "markdown",
      "metadata": {
        "id": "view-in-github",
        "colab_type": "text"
      },
      "source": [
        "<a href=\"https://colab.research.google.com/github/20pt32/KLA_Hackaton/blob/main/Milestone1.ipynb\" target=\"_parent\"><img src=\"https://colab.research.google.com/assets/colab-badge.svg\" alt=\"Open In Colab\"/></a>"
      ]
    },
    {
      "cell_type": "code",
      "execution_count": 19,
      "metadata": {
        "colab": {
          "base_uri": "https://localhost:8080/"
        },
        "id": "GHRu-Bfp0AiZ",
        "outputId": "a06f31e9-7268-4fa9-d9b0-88c5f2528f8e"
      },
      "outputs": [
        {
          "output_type": "execute_result",
          "data": {
            "text/plain": [
              "str"
            ]
          },
          "metadata": {},
          "execution_count": 19
        }
      ],
      "source": [
        "import shapely.geometry as geometry\n",
        "\n",
        "\n",
        "# Function to read input file and parse polygons\n",
        "def parse_input_file(file_path):\n",
        "    search_area = []\n",
        "    template_polygons = []\n",
        "    current_polygon = []\n",
        "    with open(file_path, 'r') as file:\n",
        "        for line in file:\n",
        "            # Check if line represents a boundary\n",
        "            if line.strip() == 'boundary':\n",
        "                if current_polygon:\n",
        "                    search_area.append(geometry.Polygon(current_polygon))\n",
        "                    current_polygon = []\n",
        "            # Check if line represents a template\n",
        "            elif line.strip() == 'template':\n",
        "                if current_polygon:\n",
        "                    template_polygons.append(geometry.Polygon(current_polygon))\n",
        "                    current_polygon = []\n",
        "            # Check if line starts with 'xy'\n",
        "            elif line.strip().startswith('xy'):\n",
        "                # Extract coordinates from line and add to current polygon\n",
        "                coordinates = line.strip().split()[2:]\n",
        "                for i in range(0, len(coordinates), 2):\n",
        "                    current_polygon.append((int(coordinates[i]), int(coordinates[i+1])))\n",
        "    return search_area, template_polygons\n",
        "\n",
        "# Function to perform template matching\n",
        "def template_matching(search_area, template_polygons):\n",
        "    results = []\n",
        "    if template_polygons:\n",
        "        for template in template_polygons:\n",
        "            for polygon in search_area:\n",
        "                if polygon.intersects(template):\n",
        "                    results.append(polygon)\n",
        "    else:\n",
        "        # If no template polygons are found, return the first two polygons of the search area\n",
        "        results = search_area[:2]\n",
        "    return results\n",
        "\n",
        "\n",
        "# Main function\n",
        "\n",
        "def main():\n",
        "    search_area, template_polygons = parse_input_file('Format_Source.txt')\n",
        "    results = template_matching(search_area, template_polygons)\n",
        "    \n",
        "    if not results:\n",
        "        print(\"No template polygons are found\")\n",
        "    else:\n",
        "        with open('output.txt', 'w') as output_file:\n",
        "            for result in results:\n",
        "                output_file.write('boundary\\n')\n",
        "                output_file.write('layer 1\\n')\n",
        "                output_file.write('datatype 0\\n')\n",
        "                output_file.write('xy ')\n",
        "                for x, y in result.exterior.coords:\n",
        "                    polygonLength=len(result.exterior.coords)\n",
        "                output_file.write(str(polygonLength))\n",
        "                output_file.write(' ')\n",
        "                for x, y in result.exterior.coords:\n",
        "                    output_file.write(str(x) + ' ' + str(y) + ' ')\n",
        "                #output_file.write(f'no of coordinates: {len(result.exterior.coords)}\\n')\n",
        "                output_file.write('\\nendel\\n')\n",
        "\n",
        "\n",
        "if __name__ == '__main__':\n",
        "    main()\n",
        "\n",
        "\n",
        "str"
      ]
    }
  ]
}