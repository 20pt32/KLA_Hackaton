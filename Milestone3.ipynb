{
  "nbformat": 4,
  "nbformat_minor": 0,
  "metadata": {
    "colab": {
      "provenance": [],
      "authorship_tag": "ABX9TyMq6QRNWLMnrxXhzyqDkcgV",
      "include_colab_link": true
    },
    "kernelspec": {
      "name": "python3",
      "display_name": "Python 3"
    },
    "language_info": {
      "name": "python"
    }
  },
  "cells": [
    {
      "cell_type": "markdown",
      "metadata": {
        "id": "view-in-github",
        "colab_type": "text"
      },
      "source": [
        "<a href=\"https://colab.research.google.com/github/20pt32/KLA_Hackaton/blob/main/Milestone3.ipynb\" target=\"_parent\"><img src=\"https://colab.research.google.com/assets/colab-badge.svg\" alt=\"Open In Colab\"/></a>"
      ]
    },
    {
      "cell_type": "code",
      "execution_count": 36,
      "metadata": {
        "id": "d5KBUCwWxE6h"
      },
      "outputs": [],
      "source": [
        "import re\n",
        "from rtree import index\n",
        "\n",
        "def find_similar_polygons(poi_file, source_file, output_file):\n",
        "    # function to extract polygon points from a string\n",
        "    def extract_points(polygon_str):\n",
        "        pattern = r\"xy\\s+\\d+\\s+(.*)endel\"\n",
        "        match = re.search(pattern, polygon_str)\n",
        "        if match:\n",
        "            points = match.group(1).split()\n",
        "            print(\"Matched: \", match.group(0))\n",
        "            print(\"Points: \", points)\n",
        "            return [ (float(points[i]), float(points[i+1])) for i in range(0, len(points), 2) ]\n",
        "        print(\"No Match\")\n",
        "    return None\n",
        "\n",
        "\n",
        "    # create an R-tree index\n",
        "    idx = index.Index()\n",
        "\n",
        "    # read the POI polygon\n",
        "    with open(poi_file, \"r\") as f:\n",
        "        poi_str = f.read()\n",
        "        poi_points = extract_points(poi_str)\n",
        "        minx = min(point[0] for point in poi_points)\n",
        "        miny = min(point[1] for point in poi_points)\n",
        "        maxx = max(point[0] for point in poi_points)\n",
        "        maxy = max(point[1] for point in poi_points)\n",
        "        bounds = (minx, miny, maxx, maxy)\n",
        "        idx.insert(0, bounds, poi_points)\n",
        "\n",
        "\n",
        "    # open the output file\n",
        "    with open(output_file, \"w\") as out_f:\n",
        "        # read the source file and find similar polygons\n",
        "        with open(source_file, \"r\") as src_f:\n",
        "            for line in src_f:\n",
        "                if \"xy\" in line:\n",
        "                    poly_str = line\n",
        "                    while \"endel\" not in line:\n",
        "                        line = next(src_f)\n",
        "                        poly_str += line\n",
        "                    poly_points = extract_points(poly_str)\n",
        "                    # check if the polygon is similar to the POI polygon\n",
        "                    for i in idx.intersection(poly_points, objects=True):\n",
        "                        if i.object == poi_points:\n",
        "                            out_f.write(poly_str)\n",
        "                            break\n",
        "\n",
        "# call the function\n",
        "find_similar_polygons(\"POI.txt\", \"Source.txt\", \"output.txt\")\n"
      ]
    }
  ]
}