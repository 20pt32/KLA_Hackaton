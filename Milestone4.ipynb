{
  "nbformat": 4,
  "nbformat_minor": 0,
  "metadata": {
    "colab": {
      "provenance": [],
      "authorship_tag": "ABX9TyO7t+esBfcmofztVFh22Mg5",
      "include_colab_link": true
    },
    "kernelspec": {
      "name": "python3",
      "display_name": "Python 3"
    },
    "language_info": {
      "name": "python"
    }
  },
  "cells": [
    {
      "cell_type": "markdown",
      "metadata": {
        "id": "view-in-github",
        "colab_type": "text"
      },
      "source": [
        "<a href=\"https://colab.research.google.com/github/20pt32/KLA_Hackaton/blob/main/Milestone4.ipynb\" target=\"_parent\"><img src=\"https://colab.research.google.com/assets/colab-badge.svg\" alt=\"Open In Colab\"/></a>"
      ]
    },
    {
      "cell_type": "code",
      "execution_count": null,
      "metadata": {
        "id": "YqGSDcVpYvBh"
      },
      "outputs": [],
      "source": [
        "import rtree\n",
        "import re\n",
        "from shapely.geometry import shape, Polygon\n",
        "\n",
        "\n",
        "def read_file(file_name):\n",
        "    polygons = []\n",
        "    with open(file_name) as f:\n",
        "        lines = f.readlines()\n",
        "        for line in lines:\n",
        "            match = re.search(r'xy\\s+(\\d+)', line)\n",
        "            if match:\n",
        "                count = int(match.group(1))\n",
        "                coords = [list(map(int, x.split())) for x in lines[lines.index(line)+1:lines.index(line)+1+count]]\n",
        "                polygons.append(coords)\n",
        "    print(polygons)\n",
        "    return polygons\n",
        "    \n",
        "\n",
        "\n",
        "def search_polygons(search_area_file, template_file):\n",
        "    search_area = read_file(search_area_file)\n",
        "    templates = read_file(template_file)\n",
        "\n",
        "    matches = []\n",
        "    idx = rtree.index.Index()\n",
        "    for i, poly in enumerate(search_area):\n",
        "        poly_shapely = Polygon(poly)\n",
        "        idx.insert(i, poly_shapely.bounds)\n",
        "        \n",
        "    for template in templates:\n",
        "        template_shapely = Polygon(template)\n",
        "        for j in idx.intersection(template_shapely.bounds):\n",
        "            if search_area[j].contains(template_shapely):\n",
        "                matches.append(template)\n",
        "    return matches\n",
        "\n",
        "def write_output(matches, template_file, output_file):\n",
        "    with open(template_file) as f:\n",
        "        template_data = f.readlines()\n",
        "    with open(output_file, 'w') as output:\n",
        "        for line in template_data:\n",
        "            if line.startswith('xy'):\n",
        "                match = re.search(r'(\\d+) (\\d+)', line)\n",
        "                if match:\n",
        "                    match_count = match.group(1)\n",
        "                    match_coords = [list(map(int, x.split())) for x in matches.pop(0)]\n",
        "                    output.write(f\"xy {match_count} {' '.join([f'{x[0]} {x[1]}' for x in match_coords])}\\n\")\n",
        "                else:\n",
        "                    output.write(line)\n",
        "            else:\n",
        "                output.write(line)\n",
        "\n",
        "def main():\n",
        "    search_area_file = \"Source.txt\"\n",
        "    template_file = \"POI.txt\"\n",
        "    output_file = \"output.txt\"\n",
        "    matches = search_polygons(search_area_file,template_file,output_file)\n",
        "    print(matches)\n",
        "    write_output(matches,template_file,output_file)\n",
        "    print(matches)"
      ]
    }
  ]
}